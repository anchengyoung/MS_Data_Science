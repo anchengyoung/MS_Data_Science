{
 "cells": [
  {
   "cell_type": "markdown",
   "id": "82f2c02f",
   "metadata": {},
   "source": [
    "### NYU CDS\n",
    "\n",
    "### Fall 2021\n",
    "\n",
    "### Introduction to Data Science\n",
    "\n",
    "### Project 2\n",
    "\n",
    "### student netid: cya220\n",
    "\n",
    "### deadline: Dec 06, 2021, 11:59pm"
   ]
  },
  {
   "cell_type": "markdown",
   "id": "03751213",
   "metadata": {},
   "source": [
    "---\n",
    "# Data analysis Project 2\n",
    "### Correlation and Regression of Movie Ratings Data\n",
    "---"
   ]
  },
  {
   "cell_type": "markdown",
   "id": "b639ca02",
   "metadata": {},
   "source": [
    "### Dataset description\n",
    "\n",
    "This dataset features ratings data of 400 movies from 1097 research participants. \n",
    "\n",
    "* 1st row: Headers (Movie titles/questions) – note that the indexing in this list is from 1\n",
    "* Row 2-1098: Responses from individual participants\n",
    "* Columns 1-400: These columns contain the ratings for the 400 movies (0 to 4, and missing)\n",
    "* Columns 401-421: These columns contain self-assessments on sensation seeking behaviors (1-5)\n",
    "* Columns 422-464: These columns contain responses to personality questions (1-5)\n",
    "* Columns 465-474: These columns contain self-reported movie experience ratings (1-5)\n",
    "* Column 475: Gender identity (1 = female, 2 = male, 3 = self-described)\n",
    "* Column 476: Only child (1 = yes, 0 = no, -1 = no response)\n",
    "* Column 477: Movies are best enjoyed alone (1 = yes, 0 = no, -1 = no response)\n",
    "\n",
    "Note that we did most of the data munging for you already (e.g. Python interprets commas in a csv file as separators, so we removed all commas from movie titles), but you still need to handle missing data."
   ]
  },
  {
   "cell_type": "markdown",
   "id": "ca61a185",
   "metadata": {},
   "source": [
    "\n",
    "\n",
    "\n",
    "### Q1:\n",
    "\n",
    "\n",
    "**Note:** For all missing values in the data, use the average of the corresponding column so to fill in the missing data."
   ]
  },
  {
   "cell_type": "code",
   "execution_count": 1,
   "id": "0a6d1dd8",
   "metadata": {},
   "outputs": [],
   "source": [
    "import numpy as np\n",
    "from scipy import stats\n",
    "import pandas as pd\n",
    "\n",
    "df = pd.read_csv('movieReplicationSet.csv',skipinitialspace=True)\n",
    "df = df.iloc[:,:-3] #Remove last three columns, which are irrelevent\n",
    "df = df.fillna(df.mean()) #Fill missing values with column mean\n",
    "df_movies = df.iloc[:,:400] #Take only the movie ratings columns"
   ]
  },
  {
   "cell_type": "markdown",
   "id": "f4f6af23",
   "metadata": {},
   "source": [
    "In this problem, under the most correlated, we consider the largest correlation in the absolute value.\n",
    "\n",
    "1.1. For every user in the given data, find its most correlated user."
   ]
  },
  {
   "cell_type": "code",
   "execution_count": 2,
   "id": "0505224a",
   "metadata": {},
   "outputs": [
    {
     "data": {
      "text/html": [
       "<div>\n",
       "<style scoped>\n",
       "    .dataframe tbody tr th:only-of-type {\n",
       "        vertical-align: middle;\n",
       "    }\n",
       "\n",
       "    .dataframe tbody tr th {\n",
       "        vertical-align: top;\n",
       "    }\n",
       "\n",
       "    .dataframe thead th {\n",
       "        text-align: right;\n",
       "    }\n",
       "</style>\n",
       "<table border=\"1\" class=\"dataframe\">\n",
       "  <thead>\n",
       "    <tr style=\"text-align: right;\">\n",
       "      <th></th>\n",
       "      <th>0</th>\n",
       "    </tr>\n",
       "  </thead>\n",
       "  <tbody>\n",
       "    <tr>\n",
       "      <th>0</th>\n",
       "      <td>118</td>\n",
       "    </tr>\n",
       "    <tr>\n",
       "      <th>1</th>\n",
       "      <td>831</td>\n",
       "    </tr>\n",
       "    <tr>\n",
       "      <th>2</th>\n",
       "      <td>896</td>\n",
       "    </tr>\n",
       "    <tr>\n",
       "      <th>3</th>\n",
       "      <td>19</td>\n",
       "    </tr>\n",
       "    <tr>\n",
       "      <th>4</th>\n",
       "      <td>784</td>\n",
       "    </tr>\n",
       "    <tr>\n",
       "      <th>...</th>\n",
       "      <td>...</td>\n",
       "    </tr>\n",
       "    <tr>\n",
       "      <th>1092</th>\n",
       "      <td>896</td>\n",
       "    </tr>\n",
       "    <tr>\n",
       "      <th>1093</th>\n",
       "      <td>784</td>\n",
       "    </tr>\n",
       "    <tr>\n",
       "      <th>1094</th>\n",
       "      <td>896</td>\n",
       "    </tr>\n",
       "    <tr>\n",
       "      <th>1095</th>\n",
       "      <td>896</td>\n",
       "    </tr>\n",
       "    <tr>\n",
       "      <th>1096</th>\n",
       "      <td>710</td>\n",
       "    </tr>\n",
       "  </tbody>\n",
       "</table>\n",
       "<p>1097 rows × 1 columns</p>\n",
       "</div>"
      ],
      "text/plain": [
       "        0\n",
       "0     118\n",
       "1     831\n",
       "2     896\n",
       "3      19\n",
       "4     784\n",
       "...   ...\n",
       "1092  896\n",
       "1093  784\n",
       "1094  896\n",
       "1095  896\n",
       "1096  710\n",
       "\n",
       "[1097 rows x 1 columns]"
      ]
     },
     "execution_count": 2,
     "metadata": {},
     "output_type": "execute_result"
    }
   ],
   "source": [
    "df_corr = df_movies.T.corr(method = 'pearson').abs() #Compute correlation matrix\n",
    "np.fill_diagonal(df_corr.values, 0) #Set diagonal elements to zero\n",
    "\n",
    "most_corr = pd.DataFrame([np.argmax(df_corr.loc[[i]]) for i in range(len(df_corr))])\n",
    "most_corr"
   ]
  },
  {
   "cell_type": "markdown",
   "id": "eea8a959",
   "metadata": {},
   "source": [
    "1.2. What is the pair of the most correlated users in the data?"
   ]
  },
  {
   "cell_type": "code",
   "execution_count": 3,
   "id": "a6674ff8",
   "metadata": {},
   "outputs": [
    {
     "name": "stdout",
     "output_type": "stream",
     "text": [
      "831 & 896\n"
     ]
    }
   ],
   "source": [
    "max_corr = pd.DataFrame(df_corr.max())\n",
    "user_1 = np.argmax(max_corr)\n",
    "user_2 = most_corr.iloc[user_1][0]\n",
    "print(user_1,\"&\",user_2)"
   ]
  },
  {
   "cell_type": "markdown",
   "id": "05430bc6",
   "metadata": {},
   "source": [
    "1.3. What is the value of this highest correlation?"
   ]
  },
  {
   "cell_type": "code",
   "execution_count": 4,
   "id": "e054931f",
   "metadata": {},
   "outputs": [
    {
     "name": "stdout",
     "output_type": "stream",
     "text": [
      "0.9987890924779799\n"
     ]
    }
   ],
   "source": [
    "print(max_corr.max()[0])"
   ]
  },
  {
   "cell_type": "markdown",
   "id": "815956e2",
   "metadata": {},
   "source": [
    "1.4. For users 0, 1, 2, $\\dots$, 9, print their most correlated users."
   ]
  },
  {
   "cell_type": "code",
   "execution_count": 5,
   "id": "66180dbb",
   "metadata": {},
   "outputs": [
    {
     "data": {
      "text/html": [
       "<div>\n",
       "<style scoped>\n",
       "    .dataframe tbody tr th:only-of-type {\n",
       "        vertical-align: middle;\n",
       "    }\n",
       "\n",
       "    .dataframe tbody tr th {\n",
       "        vertical-align: top;\n",
       "    }\n",
       "\n",
       "    .dataframe thead th {\n",
       "        text-align: right;\n",
       "    }\n",
       "</style>\n",
       "<table border=\"1\" class=\"dataframe\">\n",
       "  <thead>\n",
       "    <tr style=\"text-align: right;\">\n",
       "      <th></th>\n",
       "      <th>0</th>\n",
       "    </tr>\n",
       "  </thead>\n",
       "  <tbody>\n",
       "    <tr>\n",
       "      <th>0</th>\n",
       "      <td>118</td>\n",
       "    </tr>\n",
       "    <tr>\n",
       "      <th>1</th>\n",
       "      <td>831</td>\n",
       "    </tr>\n",
       "    <tr>\n",
       "      <th>2</th>\n",
       "      <td>896</td>\n",
       "    </tr>\n",
       "    <tr>\n",
       "      <th>3</th>\n",
       "      <td>19</td>\n",
       "    </tr>\n",
       "    <tr>\n",
       "      <th>4</th>\n",
       "      <td>784</td>\n",
       "    </tr>\n",
       "    <tr>\n",
       "      <th>5</th>\n",
       "      <td>990</td>\n",
       "    </tr>\n",
       "    <tr>\n",
       "      <th>6</th>\n",
       "      <td>1071</td>\n",
       "    </tr>\n",
       "    <tr>\n",
       "      <th>7</th>\n",
       "      <td>1074</td>\n",
       "    </tr>\n",
       "    <tr>\n",
       "      <th>8</th>\n",
       "      <td>821</td>\n",
       "    </tr>\n",
       "    <tr>\n",
       "      <th>9</th>\n",
       "      <td>1004</td>\n",
       "    </tr>\n",
       "  </tbody>\n",
       "</table>\n",
       "</div>"
      ],
      "text/plain": [
       "      0\n",
       "0   118\n",
       "1   831\n",
       "2   896\n",
       "3    19\n",
       "4   784\n",
       "5   990\n",
       "6  1071\n",
       "7  1074\n",
       "8   821\n",
       "9  1004"
      ]
     },
     "execution_count": 5,
     "metadata": {},
     "output_type": "execute_result"
    }
   ],
   "source": [
    "most_corr.head(10)"
   ]
  },
  {
   "cell_type": "markdown",
   "id": "375887af",
   "metadata": {},
   "source": [
    "### Q2:\n",
    "\n",
    "We want to find a model between the ratings and the personal part of the data. To do so, consider:\n",
    "\n",
    "\n",
    "**Part 1**: the ratings of all users over columns 1-400: \n",
    "\n",
    "-- Columns 1-400: These columns contain the ratings for the 400 movies (0 to 4, and missing);\n",
    "\n",
    "call this part `df_rate`"
   ]
  },
  {
   "cell_type": "code",
   "execution_count": 6,
   "id": "49aa212c",
   "metadata": {},
   "outputs": [],
   "source": [
    "df_rate = df.iloc[:,:400]"
   ]
  },
  {
   "cell_type": "markdown",
   "id": "ada78267",
   "metadata": {},
   "source": [
    "**Part 2**:  the part of the data which includes all users over columns 401-474\n",
    "\n",
    "-- Columns 401-421: These columns contain self-assessments on sensation seeking behaviors (1-5)\n",
    "\n",
    "-- Columns 422-464: These columns contain responses to personality questions (1-5)\n",
    "\n",
    "-- Columns 465-474: These columns contain self-reported movie experience ratings (1-5)\n",
    "\n",
    "call this part `df_pers`"
   ]
  },
  {
   "cell_type": "code",
   "execution_count": 7,
   "id": "4c1eb9f8",
   "metadata": {},
   "outputs": [],
   "source": [
    "df_pers = df.iloc[:,400:]"
   ]
  },
  {
   "cell_type": "markdown",
   "id": "6272a774",
   "metadata": {},
   "source": [
    "Our main task is to model: \n",
    "\n",
    "\n",
    "`df_pers = function(df_rate)`\n",
    "\n",
    "**Note:** Split the original data into training and testing as the ratio 0.80: 0.20. "
   ]
  },
  {
   "cell_type": "code",
   "execution_count": 8,
   "id": "0ecddc18",
   "metadata": {},
   "outputs": [],
   "source": [
    "from sklearn.model_selection import train_test_split\n",
    "\n",
    "X_train, X_test, Y_train, Y_test = train_test_split(df_rate, df_pers, test_size=0.2, random_state=42)"
   ]
  },
  {
   "cell_type": "markdown",
   "id": "47395fd5",
   "metadata": {},
   "source": [
    "2.1. Model `df_pers = function(df_rate)` by using the linear regression. \n",
    "\n",
    "What are the errors on: (i) the training part; (ii) the testing part?"
   ]
  },
  {
   "cell_type": "code",
   "execution_count": 9,
   "id": "20c7af14",
   "metadata": {},
   "outputs": [
    {
     "name": "stdout",
     "output_type": "stream",
     "text": [
      "Train Error:  0.7713293217782915\n",
      "Test Error:  1.7738241527829712\n"
     ]
    }
   ],
   "source": [
    "from sklearn.linear_model import LinearRegression\n",
    "from sklearn.metrics import mean_squared_error\n",
    "\n",
    "model = LinearRegression().fit(X_train, Y_train)\n",
    "Y_hat_train = model.predict(X_train)\n",
    "Y_hat_test = model.predict(X_test)\n",
    "\n",
    "train_rmse = mean_squared_error(Y_train, Y_hat_train, squared=False)\n",
    "test_rmse = mean_squared_error(Y_test, Y_hat_test, squared=False)\n",
    "print(\"Train Error: \",train_rmse)\n",
    "print(\"Test Error: \",test_rmse)"
   ]
  },
  {
   "cell_type": "markdown",
   "id": "77ed5421",
   "metadata": {},
   "source": [
    "2.2. Model `df_pers = function(df_rate)` by using the ridge regression with hyperparamter values alpha from [0.0, 1e-8, 1e-5, 0.1, 1, 10]. \n",
    "\n",
    "For every of the previous values for alpha, what are the errors on: (i) the training part; (ii) the testing part?\n",
    "\n",
    "What is a best choice for alpha?"
   ]
  },
  {
   "cell_type": "code",
   "execution_count": 10,
   "id": "ec80428e",
   "metadata": {},
   "outputs": [
    {
     "name": "stdout",
     "output_type": "stream",
     "text": [
      "Lowest Train Error:  0.7713293217782915\n",
      "Best Train Alpha:  0.0\n",
      "Lowest Test Error:  1.3570421726110675\n",
      "Best Test Alpha:  10\n"
     ]
    },
    {
     "data": {
      "text/html": [
       "<div>\n",
       "<style scoped>\n",
       "    .dataframe tbody tr th:only-of-type {\n",
       "        vertical-align: middle;\n",
       "    }\n",
       "\n",
       "    .dataframe tbody tr th {\n",
       "        vertical-align: top;\n",
       "    }\n",
       "\n",
       "    .dataframe thead th {\n",
       "        text-align: right;\n",
       "    }\n",
       "</style>\n",
       "<table border=\"1\" class=\"dataframe\">\n",
       "  <thead>\n",
       "    <tr style=\"text-align: right;\">\n",
       "      <th></th>\n",
       "      <th>0</th>\n",
       "      <th>1</th>\n",
       "      <th>2</th>\n",
       "    </tr>\n",
       "  </thead>\n",
       "  <tbody>\n",
       "    <tr>\n",
       "      <th>0</th>\n",
       "      <td>0.000000e+00</td>\n",
       "      <td>0.771329</td>\n",
       "      <td>1.773824</td>\n",
       "    </tr>\n",
       "    <tr>\n",
       "      <th>1</th>\n",
       "      <td>1.000000e-08</td>\n",
       "      <td>0.771329</td>\n",
       "      <td>1.773824</td>\n",
       "    </tr>\n",
       "    <tr>\n",
       "      <th>2</th>\n",
       "      <td>1.000000e-05</td>\n",
       "      <td>0.771329</td>\n",
       "      <td>1.773822</td>\n",
       "    </tr>\n",
       "    <tr>\n",
       "      <th>3</th>\n",
       "      <td>1.000000e-01</td>\n",
       "      <td>0.771397</td>\n",
       "      <td>1.750919</td>\n",
       "    </tr>\n",
       "    <tr>\n",
       "      <th>4</th>\n",
       "      <td>1.000000e+00</td>\n",
       "      <td>0.774441</td>\n",
       "      <td>1.624254</td>\n",
       "    </tr>\n",
       "    <tr>\n",
       "      <th>5</th>\n",
       "      <td>1.000000e+01</td>\n",
       "      <td>0.805712</td>\n",
       "      <td>1.357042</td>\n",
       "    </tr>\n",
       "  </tbody>\n",
       "</table>\n",
       "</div>"
      ],
      "text/plain": [
       "              0         1         2\n",
       "0  0.000000e+00  0.771329  1.773824\n",
       "1  1.000000e-08  0.771329  1.773824\n",
       "2  1.000000e-05  0.771329  1.773822\n",
       "3  1.000000e-01  0.771397  1.750919\n",
       "4  1.000000e+00  0.774441  1.624254\n",
       "5  1.000000e+01  0.805712  1.357042"
      ]
     },
     "execution_count": 10,
     "metadata": {},
     "output_type": "execute_result"
    }
   ],
   "source": [
    "from sklearn.linear_model import Ridge\n",
    "\n",
    "alphas = [0.0, 1e-8, 1e-5, 0.1, 1, 10]\n",
    "def ridge_function(alpha_list):\n",
    "    train_errors = []\n",
    "    test_errors = []\n",
    "    for a in alpha_list:\n",
    "        model = Ridge(alpha=a).fit(X_train, Y_train)\n",
    "        Y_hat_train = model.predict(X_train)\n",
    "        Y_hat_test = model.predict(X_test)\n",
    "        train_rmse = mean_squared_error(Y_train, Y_hat_train, squared=False)\n",
    "        test_rmse = mean_squared_error(Y_test, Y_hat_test, squared=False)\n",
    "        train_errors.append(train_rmse)\n",
    "        test_errors.append(test_rmse)\n",
    "    return train_errors, test_errors \n",
    "\n",
    "train_errors, test_errors = ridge_function(alphas)\n",
    "print(\"Lowest Train Error: \", np.min(train_errors))\n",
    "print(\"Best Train Alpha: \", alphas[np.argmin(train_errors)])\n",
    "print(\"Lowest Test Error: \", np.min(test_errors))\n",
    "print(\"Best Test Alpha: \", alphas[np.argmin(test_errors)])\n",
    "pd.DataFrame(np.stack((np.array(alphas), np.array(train_errors),np.array(test_errors))).T)"
   ]
  },
  {
   "cell_type": "markdown",
   "id": "d869aeba",
   "metadata": {},
   "source": [
    "2.3. Model `df_pers = function(df_rate)` by using the lasso regression with hyperparamter values alpha from [1e-3, 1e-2, 1e-1, 1]. \n",
    "\n",
    "For every of the previous values for alpha, what are the errors on: (i) the training part; (ii) the testing part?\n",
    "\n",
    "What is a best choice for alpha?\n",
    "\n",
    "\n",
    "**Note**: Ignore any `convergence warning` in case you may obtain in the Lasso regression."
   ]
  },
  {
   "cell_type": "code",
   "execution_count": 11,
   "id": "dc3de932",
   "metadata": {},
   "outputs": [
    {
     "name": "stdout",
     "output_type": "stream",
     "text": [
      "Lowest Train Error:  0.7864463543603145\n",
      "Best Train Alpha:  0.001\n",
      "Lowest Test Error:  1.104763164764148\n",
      "Best Test Alpha:  0.1\n"
     ]
    },
    {
     "data": {
      "text/html": [
       "<div>\n",
       "<style scoped>\n",
       "    .dataframe tbody tr th:only-of-type {\n",
       "        vertical-align: middle;\n",
       "    }\n",
       "\n",
       "    .dataframe tbody tr th {\n",
       "        vertical-align: top;\n",
       "    }\n",
       "\n",
       "    .dataframe thead th {\n",
       "        text-align: right;\n",
       "    }\n",
       "</style>\n",
       "<table border=\"1\" class=\"dataframe\">\n",
       "  <thead>\n",
       "    <tr style=\"text-align: right;\">\n",
       "      <th></th>\n",
       "      <th>0</th>\n",
       "      <th>1</th>\n",
       "      <th>2</th>\n",
       "    </tr>\n",
       "  </thead>\n",
       "  <tbody>\n",
       "    <tr>\n",
       "      <th>0</th>\n",
       "      <td>0.001</td>\n",
       "      <td>0.786446</td>\n",
       "      <td>1.483397</td>\n",
       "    </tr>\n",
       "    <tr>\n",
       "      <th>1</th>\n",
       "      <td>0.010</td>\n",
       "      <td>0.934716</td>\n",
       "      <td>1.154863</td>\n",
       "    </tr>\n",
       "    <tr>\n",
       "      <th>2</th>\n",
       "      <td>0.100</td>\n",
       "      <td>1.085629</td>\n",
       "      <td>1.104763</td>\n",
       "    </tr>\n",
       "    <tr>\n",
       "      <th>3</th>\n",
       "      <td>1.000</td>\n",
       "      <td>1.091588</td>\n",
       "      <td>1.108752</td>\n",
       "    </tr>\n",
       "  </tbody>\n",
       "</table>\n",
       "</div>"
      ],
      "text/plain": [
       "       0         1         2\n",
       "0  0.001  0.786446  1.483397\n",
       "1  0.010  0.934716  1.154863\n",
       "2  0.100  1.085629  1.104763\n",
       "3  1.000  1.091588  1.108752"
      ]
     },
     "execution_count": 11,
     "metadata": {},
     "output_type": "execute_result"
    }
   ],
   "source": [
    "from sklearn.linear_model import Lasso\n",
    "from sklearn.utils._testing import ignore_warnings\n",
    "from sklearn.exceptions import ConvergenceWarning\n",
    "\n",
    "alphas = [1e-3, 1e-2, 1e-1, 1]\n",
    "@ignore_warnings(category=ConvergenceWarning)\n",
    "def lasso_function(alpha_list):\n",
    "    train_errors = []\n",
    "    test_errors = []\n",
    "    for a in alpha_list:\n",
    "        model = Lasso(alpha=a).fit(X_train, Y_train)\n",
    "        Y_hat_train = model.predict(X_train)\n",
    "        Y_hat_test = model.predict(X_test)\n",
    "        train_rmse = mean_squared_error(Y_train, Y_hat_train, squared=False)\n",
    "        test_rmse = mean_squared_error(Y_test, Y_hat_test, squared=False)\n",
    "        train_errors.append(train_rmse)\n",
    "        test_errors.append(test_rmse)\n",
    "    return train_errors, test_errors \n",
    "\n",
    "train_errors, test_errors = lasso_function(alphas)\n",
    "print(\"Lowest Train Error: \", np.min(train_errors))\n",
    "print(\"Best Train Alpha: \", alphas[np.argmin(train_errors)])\n",
    "print(\"Lowest Test Error: \", np.min(test_errors))\n",
    "print(\"Best Test Alpha: \", alphas[np.argmin(test_errors)])\n",
    "pd.DataFrame(np.stack((np.array(alphas), np.array(train_errors),np.array(test_errors))).T)"
   ]
  }
 ],
 "metadata": {
  "kernelspec": {
   "display_name": "Python 3",
   "language": "python",
   "name": "python3"
  },
  "language_info": {
   "codemirror_mode": {
    "name": "ipython",
    "version": 3
   },
   "file_extension": ".py",
   "mimetype": "text/x-python",
   "name": "python",
   "nbconvert_exporter": "python",
   "pygments_lexer": "ipython3",
   "version": "3.8.8"
  }
 },
 "nbformat": 4,
 "nbformat_minor": 5
}
