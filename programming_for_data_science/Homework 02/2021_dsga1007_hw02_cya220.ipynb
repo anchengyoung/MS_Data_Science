{
 "cells": [
  {
   "cell_type": "markdown",
   "metadata": {},
   "source": [
    "--- \n",
    "\n",
    "### 2021 FALL\n",
    "### DSGA1007\n",
    "\n",
    "--- \n",
    "\n",
    "### HW02\n",
    "### Due Date: 2021-10-07, 8PM"
   ]
  },
  {
   "cell_type": "markdown",
   "metadata": {},
   "source": [
    "Firstname: Jean\n",
    "\n",
    "Lastname: An\n",
    "\n",
    "E-mail: cya220@nyu.edu\n",
    "\n",
    "\n",
    "--- \n",
    "\n",
    "Enter your solutions below,  and submit this notebook"
   ]
  },
  {
   "cell_type": "markdown",
   "metadata": {},
   "source": [
    "### Problem 01 (10 points):\n",
    "\n",
    "1. 1 (5 points) Write a function that iteratively calculates factorial $n!$ of an integer $n \\geq 0$, where $n!=1 \\cdot 2 \\cdot \\dots \\cdot n$. Evaluate the function for $n=10$.\n",
    "\n",
    "\n",
    "1. 2 (5 points) Write a function that recursively calculates factorial $n!$ of an integer $n \\geq 0$, where $n!=1 \\cdot 2 \\cdot \\dots \\cdot n$. Evaluate the function for $n=10$.\n"
   ]
  },
  {
   "cell_type": "code",
   "execution_count": 16,
   "metadata": {},
   "outputs": [
    {
     "data": {
      "text/plain": [
       "3628800"
      ]
     },
     "execution_count": 16,
     "metadata": {},
     "output_type": "execute_result"
    }
   ],
   "source": [
    "def factorial_iterative(n):\n",
    "    start = 1\n",
    "    for i in range(1,n+1):\n",
    "        start = start * i\n",
    "    return start\n",
    "\n",
    "factorial_iterative(10)"
   ]
  },
  {
   "cell_type": "code",
   "execution_count": 12,
   "metadata": {},
   "outputs": [
    {
     "data": {
      "text/plain": [
       "3628800"
      ]
     },
     "execution_count": 12,
     "metadata": {},
     "output_type": "execute_result"
    }
   ],
   "source": [
    "def factorial_recursive(n):\n",
    "    if n <= 1:\n",
    "        return 1\n",
    "    else:\n",
    "        return n * factorial_recursive(n-1)\n",
    "\n",
    "factorial_recursive(10)"
   ]
  },
  {
   "cell_type": "markdown",
   "metadata": {},
   "source": [
    "### Problem 02 (50 points)\n",
    "\n",
    "Let $M$ be a real quadratic matrix, that is, the number of rows and columns are the same. \n",
    "\n",
    "2.1 (20 points) Write a function that *recursively* calculates the power of matrix to the exponent $k$ (by the definition of the matrix multiplication). Here $k \\geq 0$ is an integer.\n",
    "\n",
    "```def matrix_mult_rec(M, k):\n",
    "    return M_to_power\n",
    "```    \n",
    "    \n",
    "2.2 (10 points) What is the number of calls, that is, how many times the function has been called for $k=100$?\n",
    "\n",
    "2.3 (15 points) Given the same question as the one in 2.2, what is the answer for a general input $k$?\n",
    "\n",
    "2.4. (5 points) What is the answer for `M=np.ones((5, 5))` and `k=5`?"
   ]
  },
  {
   "cell_type": "code",
   "execution_count": 3,
   "metadata": {},
   "outputs": [],
   "source": [
    "import numpy as np\n",
    "\n",
    "def matrix_power(M_to_power, k):\n",
    "    if k == 0:\n",
    "        return np.identity(len(M_to_power))\n",
    "    if k == 1:\n",
    "        return M_to_power\n",
    "    else:\n",
    "        return np.dot(matrix_power(M_to_power, k-1), M_to_power)"
   ]
  },
  {
   "cell_type": "markdown",
   "metadata": {},
   "source": [
    "2.2 For k = 100, the function will be recursively called 99 times. (Not including the time we manually call it.)\n",
    "\n",
    "2.3 The function is recursively called k-1 times. (Again, not including the time we manually call it.)"
   ]
  },
  {
   "cell_type": "code",
   "execution_count": 5,
   "metadata": {},
   "outputs": [
    {
     "data": {
      "text/plain": [
       "array([[625., 625., 625., 625., 625.],\n",
       "       [625., 625., 625., 625., 625.],\n",
       "       [625., 625., 625., 625., 625.],\n",
       "       [625., 625., 625., 625., 625.],\n",
       "       [625., 625., 625., 625., 625.]])"
      ]
     },
     "execution_count": 5,
     "metadata": {},
     "output_type": "execute_result"
    }
   ],
   "source": [
    "M = np.ones((5, 5))\n",
    "k = 5\n",
    "\n",
    "matrix_power(M, k)"
   ]
  },
  {
   "cell_type": "markdown",
   "metadata": {},
   "source": [
    "### Problem 03 (20 points):\n",
    "\n",
    "3.1 (5 points) Write a function that performs a bubble sort.(Function from the lecture is accepted)\n",
    "\n",
    "3.2 (5 points) Write a function that performs a merge sort.(Function from the lecture is accepted)\n",
    "\n",
    "3.3 (5 points) Generate a random numpy array $a$, of length $n=10000$, where each component is a random number independently and uniformly generated from the interval $[0, 1]$. \n",
    "\n",
    "3.4 (5 points) Estimate and print the actual running times for the functions from 3.1 and 3.2 when applied on the array $a$.\n",
    "\n",
    "**Hint**: In problem 3.4 you are asked to find the actual running time for each of the functions bubble sort and merge sort when applied on the random array $a$. In order to calculate the running time, that is, how long a function takes to run, you can use the following code:"
   ]
  },
  {
   "cell_type": "code",
   "execution_count": 148,
   "metadata": {},
   "outputs": [],
   "source": [
    "def bubble_sort(arr):\n",
    "    for i in range(len(arr) - 1):\n",
    "        for j in range(i + 1, len(arr)):\n",
    "            if arr[i] > arr[j]:\n",
    "                arr[i], arr[j] = arr[j], arr[i]\n",
    "    return arr"
   ]
  },
  {
   "cell_type": "code",
   "execution_count": 165,
   "metadata": {},
   "outputs": [],
   "source": [
    "def merge_sort(arr):\n",
    " \n",
    "    if len(arr) <= 1:\n",
    "        return arr\n",
    "    \n",
    "    middle = len(arr) // 2\n",
    "    \n",
    "    left_arr = arr[: middle]    \n",
    "    right_arr = arr[middle: ]\n",
    "\n",
    "    left_arr = merge_sort(left_arr)\n",
    "    right_arr = merge_sort(right_arr)\n",
    "    \n",
    "    lst_result = []\n",
    "    left_point, right_point = 0, 0\n",
    "    \n",
    "    while left_point < len(left_arr) and right_point < len(right_arr):\n",
    "        \n",
    "        if left_arr[left_point] <= right_arr[right_point]:\n",
    "            lst_result.append(left_arr[left_point])\n",
    "            left_point += 1\n",
    "            \n",
    "        else:\n",
    "            lst_result.append(right_arr[right_point])\n",
    "            right_point += 1\n",
    "\n",
    "    if left_point == len(left_arr):\n",
    "        lst_result += right_arr[right_point: ]\n",
    "    else:\n",
    "        lst_result += left_arr[left_point: ]\n",
    "    \n",
    "    return lst_result"
   ]
  },
  {
   "cell_type": "code",
   "execution_count": 172,
   "metadata": {},
   "outputs": [],
   "source": [
    "a = list(np.random.uniform(0,1,10000))"
   ]
  },
  {
   "cell_type": "code",
   "execution_count": 174,
   "metadata": {},
   "outputs": [],
   "source": [
    "import datetime"
   ]
  },
  {
   "cell_type": "code",
   "execution_count": 177,
   "metadata": {},
   "outputs": [
    {
     "name": "stdout",
     "output_type": "stream",
     "text": [
      "0:00:04.139054\n"
     ]
    }
   ],
   "source": [
    "start_time =  datetime.datetime.now()\n",
    "bubble_sort(a)\n",
    "end_time =  datetime.datetime.now()\n",
    "run_time = end_time - start_time\n",
    "print(run_time)"
   ]
  },
  {
   "cell_type": "code",
   "execution_count": 178,
   "metadata": {},
   "outputs": [
    {
     "name": "stdout",
     "output_type": "stream",
     "text": [
      "0:00:00.035644\n"
     ]
    }
   ],
   "source": [
    "start_time =  datetime.datetime.now()\n",
    "merge_sort(a)\n",
    "end_time =  datetime.datetime.now()\n",
    "run_time = end_time - start_time\n",
    "print(run_time)"
   ]
  },
  {
   "cell_type": "markdown",
   "metadata": {},
   "source": [
    "\n",
    "### Problem 04 (20 points)\n"
   ]
  },
  {
   "cell_type": "markdown",
   "metadata": {},
   "source": [
    "The provided file 'nba2020.csv' contains the schedules and information of the NBA games for 2020. Using the unix commands, covered in Lecture04, write scripts which will display:\n",
    "    \n",
    "4.1 (5 points) a unique list of NBA teams, provided in the file; (you can use either column \"Visitor\" or column \"Home\")\n",
    "\n",
    "4.2 (5 points) the number of those NBA teams;\n",
    "\n",
    "4.3 (5 points) a unique list of the times -- provided in the file -- when the NBA matches were played;\n",
    "\n",
    "4.4 (5 points) the number of these unique times."
   ]
  },
  {
   "cell_type": "markdown",
   "metadata": {},
   "source": [
    "**Important:** to skip the header of file you can use: \n",
    "    \n",
    "`!tail -n+2 nba2020.csv`\n",
    "\n",
    "\n",
    "Since,\n",
    "\n",
    "``-n, --lines=[+]NUM       output the last NUM lines, instead of the last 10;\n",
    "                             or use -n +NUM to output starting with line NUM``\n",
    "        \n",
    "        \n",
    "**Hint:** Problems 4.3 and 4.4 are asking for the list and unique times in the provided dataset/file. There is a column \"Start (ET)\" in the dataset, and you should process this column. For example \"3:30p\" is one of these times.  For this, you can use the \"cut\" command and the flag \"-f\" as described in class. "
   ]
  },
  {
   "cell_type": "code",
   "execution_count": 245,
   "metadata": {},
   "outputs": [
    {
     "name": "stdout",
     "output_type": "stream",
     "text": [
      "Atlanta Hawks\r\n",
      "Boston Celtics\r\n",
      "Brooklyn Nets\r\n",
      "Charlotte Hornets\r\n",
      "Chicago Bulls\r\n",
      "Cleveland Cavaliers\r\n",
      "Dallas Mavericks\r\n",
      "Denver Nuggets\r\n",
      "Detroit Pistons\r\n",
      "Golden State Warriors\r\n",
      "Houston Rockets\r\n",
      "Indiana Pacers\r\n",
      "Los Angeles Clippers\r\n",
      "Los Angeles Lakers\r\n",
      "Memphis Grizzlies\r\n",
      "Miami Heat\r\n",
      "Milwaukee Bucks\r\n",
      "Minnesota Timberwolves\r\n",
      "New Orleans Pelicans\r\n",
      "New York Knicks\r\n",
      "Oklahoma City Thunder\r\n",
      "Orlando Magic\r\n",
      "Philadelphia 76ers\r\n",
      "Phoenix Suns\r\n",
      "Portland Trail Blazers\r\n",
      "Sacramento Kings\r\n",
      "San Antonio Spurs\r\n",
      "Toronto Raptors\r\n",
      "Utah Jazz\r\n",
      "Washington Wizards\r\n"
     ]
    }
   ],
   "source": [
    "!cut -d \",\" -f 3 nba2020.csv | tail -n +2 | sort | uniq"
   ]
  },
  {
   "cell_type": "code",
   "execution_count": 233,
   "metadata": {},
   "outputs": [
    {
     "name": "stdout",
     "output_type": "stream",
     "text": [
      "      30\r\n"
     ]
    }
   ],
   "source": [
    "!cut -d \",\" -f 3 nba2020.csv | tail -n +2 | sort | uniq | wc -l"
   ]
  },
  {
   "cell_type": "code",
   "execution_count": 246,
   "metadata": {},
   "outputs": [
    {
     "name": "stdout",
     "output_type": "stream",
     "text": [
      "10:00p\r\n",
      "10:30p\r\n",
      "3:30p\r\n",
      "5:00p\r\n",
      "6:00p\r\n",
      "7:00p\r\n",
      "7:30p\r\n",
      "8:00p\r\n",
      "8:30p\r\n",
      "9:00p\r\n",
      "9:30p\r\n"
     ]
    }
   ],
   "source": [
    "!cut -d \",\" -f 2 nba2020.csv | tail -n +2 | sort | uniq | tail -n +2"
   ]
  },
  {
   "cell_type": "code",
   "execution_count": 243,
   "metadata": {},
   "outputs": [
    {
     "name": "stdout",
     "output_type": "stream",
     "text": [
      "      11\r\n"
     ]
    }
   ],
   "source": [
    "!cut -d \",\" -f 2 nba2020.csv | tail -n +2 | sort | uniq | tail -n +2 | wc -l"
   ]
  }
 ],
 "metadata": {
  "kernelspec": {
   "display_name": "Python 3",
   "language": "python",
   "name": "python3"
  },
  "language_info": {
   "codemirror_mode": {
    "name": "ipython",
    "version": 3
   },
   "file_extension": ".py",
   "mimetype": "text/x-python",
   "name": "python",
   "nbconvert_exporter": "python",
   "pygments_lexer": "ipython3",
   "version": "3.8.8"
  }
 },
 "nbformat": 4,
 "nbformat_minor": 2
}
