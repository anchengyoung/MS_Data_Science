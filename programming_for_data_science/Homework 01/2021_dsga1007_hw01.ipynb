{
 "cells": [
  {
   "cell_type": "markdown",
   "metadata": {},
   "source": [
    "--- \n",
    "\n",
    "### DSGA1007\n",
    "\n",
    "--- \n",
    "\n",
    "### HW01 \n",
    "### Due Date: 2021-09-24, 5PM"
   ]
  },
  {
   "cell_type": "markdown",
   "metadata": {},
   "source": [
    "Firstname:\n",
    "\n",
    "Lastname:\n",
    "\n",
    "E-mail:\n",
    "\n",
    "\n",
    "--- \n",
    "\n",
    "Enter your solutions below,  and submit this notebook"
   ]
  },
  {
   "cell_type": "markdown",
   "metadata": {},
   "source": [
    "### Problem 01 (25 points):\n",
    "\n",
    "Two given data sets \"ClassA.csv\" and \"ClassB.csv\" represent the number of points obtained by students at quizzes for two different classes A and B. \n",
    "\n",
    "So, every row in \"ClassA.csv\" represents points obtained by a student in class A. Similarly for the class B. \n",
    "\n",
    "Write a function which displays: \n",
    "\n",
    "- number of students for each A and B\n",
    "\n",
    "- number of quizzes for each class A and B\n",
    "\n",
    "\n",
    "- the average number of points for every student for each class A and B\n",
    "\n",
    "- the min number of points for every student for each class A and B\n",
    "\n",
    "- the max number of points for every student for each class A and B\n",
    "\n",
    "- the standard deviation of the number of points for every student for each class A and B\n",
    "\n",
    "\n",
    "- the average number of points over for every quiz for each class A and B\n",
    "\n",
    "- the min number of points over for every quiz for each class A and B\n",
    "\n",
    "- the max number of points over for every quiz for each class A and B\n",
    "\n",
    "- the standard deviation for the number of points over for every quiz for each class A and B\n",
    "\n",
    "\n",
    "\n",
    "\n",
    "\n",
    "\n"
   ]
  },
  {
   "cell_type": "code",
   "execution_count": null,
   "metadata": {},
   "outputs": [],
   "source": [
    "### Solution 01\n",
    "\n",
    "def examine_results(fileA, fileB):\n",
    "    pass\n",
    "\n",
    "### run your solution"
   ]
  },
  {
   "cell_type": "markdown",
   "metadata": {},
   "source": [
    "### Problem 02 (50 points)\n",
    "\n",
    "\n",
    "Create two random matrices of dimension 10 by 10: \n",
    "\n",
    "(5 points)\n",
    "a. $U$, where each entry is drawn independently from the uniform distribution on $[0, 1]$\n",
    "\n",
    "(5 points)\n",
    "b. $G$, where each entry is drawn independently from the normal (Gaussian) distribution with mean 0 and standard deviation 1.\n",
    "\n",
    "\n",
    "(30 points)\n",
    "- Write a function which for a given input matrix M outputs two vectors:\n",
    "\n",
    "avg_row, avg_col which are averages over rows and columns in the given matrix M\n",
    "\n",
    "\n",
    "```\n",
    "def matrix_avg(M):\n",
    "    return avg_row, avg_col\n",
    "``` \n",
    "\n",
    "- Write a function which for a given input matrix M outputs a matrix where each entry of M is squared; \n",
    "\n",
    "\n",
    "\n",
    "```\n",
    "def matrix_sq(M):\n",
    "    return M_sq\n",
    "``` \n",
    "\n",
    "\n",
    "- Write a function which for a given input matrix M outputs a matrix where each entry of M is raised at the power k:\n",
    "\n",
    "\n",
    "```\n",
    "def matrix_power(M, k):\n",
    "    return M_power\n",
    "``` \n",
    "   \n",
    "   \n",
    "- Report outputs of when `matrix_avg`, `matrix_sq` and `matrix_power` for `k=3` applied on both $U$ and $G$; \n",
    "there are 6 outputs.\n",
    "\n",
    "\n",
    "\n",
    "(10 points)\n",
    "\n",
    "Write a function which displays the output of the convolution: \n",
    "\n",
    "`matrix_avg(matrix_power(M, t))` when $t$ takes values from $t=1, 2, \\dots, 10$.\n",
    "\n",
    "\n",
    "```\n",
    "def matrix_powers_examine(M):\n",
    "    return\n",
    "``` \n",
    "      \n",
    "- Report output of the above on both $U$ and $G$. \n",
    "\n",
    "\n"
   ]
  },
  {
   "cell_type": "code",
   "execution_count": null,
   "metadata": {},
   "outputs": [],
   "source": [
    "### Solution 02 \n",
    "\n"
   ]
  },
  {
   "cell_type": "markdown",
   "metadata": {},
   "source": [
    "\n",
    "### Problem 03 (25 points)\n",
    "\n",
    "For the given text below, write a function which displays the text and returns a dictionary call it `char_counts`; where the dictionary maps all distinct characters of the text into the number of their occurrences in the given text. \n",
    "\n",
    "For example, `char_counts['A'] = 1` since `A` only appeared once in the word \"Avenue\".\n",
    "\n",
    "\n",
    "Finally, print the obtained dictionary `char_counts` and its length. \n",
    "\n"
   ]
  },
  {
   "cell_type": "code",
   "execution_count": null,
   "metadata": {},
   "outputs": [],
   "source": [
    "text = \"The Center for Data Science (CDS) is the focal point for New York University’s university-wide efforts in Data Science. The Center was established in 2013 to advance NYU’s goal of creating a world-leading Data Science training and research facility, and arming researchers and professionals with the tools to harness the power of Big Data. Today, CDS counts 16 jointly appointed interdisciplinary faculty housed on two floors of our magnificent 60 5th Avenue building, one of New York City’s historic properties. It is home to a top-ranked MS in Data Science program, one of the first PhD programs in Data Science, and a new undergraduate program in Data Science, as well as a lively Fellow and Postdoctoral program. It has over 60 associate and affiliate faculty from 25 departments in 9 schools and units. With cross-disciplinary research and innovative educational programs, CDS is shaping the new field of Data Science.\""
   ]
  },
  {
   "cell_type": "code",
   "execution_count": null,
   "metadata": {},
   "outputs": [],
   "source": [
    "### Solution 03 \n",
    "\n",
    "def text_process(text):\n",
    "    return dd\n",
    "    \n",
    "           \n"
   ]
  }
 ],
 "metadata": {
  "kernelspec": {
   "display_name": "Python 3",
   "language": "python",
   "name": "python3"
  },
  "language_info": {
   "codemirror_mode": {
    "name": "ipython",
    "version": 3
   },
   "file_extension": ".py",
   "mimetype": "text/x-python",
   "name": "python",
   "nbconvert_exporter": "python",
   "pygments_lexer": "ipython3",
   "version": "3.8.0"
  }
 },
 "nbformat": 4,
 "nbformat_minor": 2
}
