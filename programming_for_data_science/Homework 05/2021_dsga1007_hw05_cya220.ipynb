{
 "cells": [
  {
   "cell_type": "markdown",
   "metadata": {},
   "source": [
    "--- \n",
    "\n",
    "### DSGA1007\n",
    "\n",
    "--- \n",
    "\n",
    "### HW05 \n",
    "\n",
    "### Due Date: Sunday 2021-11-14, 8PM\n",
    "\n",
    "\n",
    "#### Student Name: Jean An\n",
    "\n",
    "#### Student NetID: cya220"
   ]
  },
  {
   "cell_type": "markdown",
   "metadata": {},
   "source": [
    "In this HW we continue the analysis of the data \"StudentsPerformance.csv\" presented in Lab08:\n",
    "\n",
    "``data is adapted from a dataset from kaggle:  \n",
    "https://www.kaggle.com/spscientist/students-performance-in-exams``\n",
    "\n",
    "The dataset \"StudentsPerformance.csv\" has been posted under Content for Lab08. Please download \"StudentsPerformance.csv\" from Brightspace."
   ]
  },
  {
   "cell_type": "markdown",
   "metadata": {},
   "source": [
    "**Problem 1.1 (Points 5)** \n",
    "\n",
    "Read the data by using `pandas`. "
   ]
  },
  {
   "cell_type": "code",
   "execution_count": 1,
   "metadata": {},
   "outputs": [
    {
     "data": {
      "text/html": [
       "<div>\n",
       "<style scoped>\n",
       "    .dataframe tbody tr th:only-of-type {\n",
       "        vertical-align: middle;\n",
       "    }\n",
       "\n",
       "    .dataframe tbody tr th {\n",
       "        vertical-align: top;\n",
       "    }\n",
       "\n",
       "    .dataframe thead th {\n",
       "        text-align: right;\n",
       "    }\n",
       "</style>\n",
       "<table border=\"1\" class=\"dataframe\">\n",
       "  <thead>\n",
       "    <tr style=\"text-align: right;\">\n",
       "      <th></th>\n",
       "      <th>gender</th>\n",
       "      <th>group</th>\n",
       "      <th>test preparation course</th>\n",
       "      <th>math score</th>\n",
       "      <th>reading score</th>\n",
       "      <th>writing score</th>\n",
       "    </tr>\n",
       "  </thead>\n",
       "  <tbody>\n",
       "    <tr>\n",
       "      <th>0</th>\n",
       "      <td>female</td>\n",
       "      <td>group B</td>\n",
       "      <td>none</td>\n",
       "      <td>72.0</td>\n",
       "      <td>72</td>\n",
       "      <td>74.0</td>\n",
       "    </tr>\n",
       "    <tr>\n",
       "      <th>1</th>\n",
       "      <td>female</td>\n",
       "      <td>group C</td>\n",
       "      <td>completed</td>\n",
       "      <td>69.0</td>\n",
       "      <td>90</td>\n",
       "      <td>88.0</td>\n",
       "    </tr>\n",
       "    <tr>\n",
       "      <th>2</th>\n",
       "      <td>female</td>\n",
       "      <td>group B</td>\n",
       "      <td>none</td>\n",
       "      <td>NaN</td>\n",
       "      <td>95</td>\n",
       "      <td>NaN</td>\n",
       "    </tr>\n",
       "    <tr>\n",
       "      <th>3</th>\n",
       "      <td>male</td>\n",
       "      <td>group A</td>\n",
       "      <td>none</td>\n",
       "      <td>47.0</td>\n",
       "      <td>57</td>\n",
       "      <td>44.0</td>\n",
       "    </tr>\n",
       "    <tr>\n",
       "      <th>4</th>\n",
       "      <td>male</td>\n",
       "      <td>group C</td>\n",
       "      <td>none</td>\n",
       "      <td>76.0</td>\n",
       "      <td>78</td>\n",
       "      <td>75.0</td>\n",
       "    </tr>\n",
       "    <tr>\n",
       "      <th>...</th>\n",
       "      <td>...</td>\n",
       "      <td>...</td>\n",
       "      <td>...</td>\n",
       "      <td>...</td>\n",
       "      <td>...</td>\n",
       "      <td>...</td>\n",
       "    </tr>\n",
       "    <tr>\n",
       "      <th>995</th>\n",
       "      <td>female</td>\n",
       "      <td>group E</td>\n",
       "      <td>completed</td>\n",
       "      <td>88.0</td>\n",
       "      <td>99</td>\n",
       "      <td>95.0</td>\n",
       "    </tr>\n",
       "    <tr>\n",
       "      <th>996</th>\n",
       "      <td>male</td>\n",
       "      <td>group C</td>\n",
       "      <td>none</td>\n",
       "      <td>NaN</td>\n",
       "      <td>55</td>\n",
       "      <td>55.0</td>\n",
       "    </tr>\n",
       "    <tr>\n",
       "      <th>997</th>\n",
       "      <td>female</td>\n",
       "      <td>group C</td>\n",
       "      <td>completed</td>\n",
       "      <td>59.0</td>\n",
       "      <td>71</td>\n",
       "      <td>65.0</td>\n",
       "    </tr>\n",
       "    <tr>\n",
       "      <th>998</th>\n",
       "      <td>female</td>\n",
       "      <td>group D</td>\n",
       "      <td>completed</td>\n",
       "      <td>68.0</td>\n",
       "      <td>78</td>\n",
       "      <td>77.0</td>\n",
       "    </tr>\n",
       "    <tr>\n",
       "      <th>999</th>\n",
       "      <td>female</td>\n",
       "      <td>group D</td>\n",
       "      <td>none</td>\n",
       "      <td>77.0</td>\n",
       "      <td>86</td>\n",
       "      <td>86.0</td>\n",
       "    </tr>\n",
       "  </tbody>\n",
       "</table>\n",
       "<p>1000 rows × 6 columns</p>\n",
       "</div>"
      ],
      "text/plain": [
       "     gender    group test preparation course  math score  reading score  \\\n",
       "0    female  group B                    none        72.0             72   \n",
       "1    female  group C               completed        69.0             90   \n",
       "2    female  group B                    none         NaN             95   \n",
       "3      male  group A                    none        47.0             57   \n",
       "4      male  group C                    none        76.0             78   \n",
       "..      ...      ...                     ...         ...            ...   \n",
       "995  female  group E               completed        88.0             99   \n",
       "996    male  group C                    none         NaN             55   \n",
       "997  female  group C               completed        59.0             71   \n",
       "998  female  group D               completed        68.0             78   \n",
       "999  female  group D                    none        77.0             86   \n",
       "\n",
       "     writing score  \n",
       "0             74.0  \n",
       "1             88.0  \n",
       "2              NaN  \n",
       "3             44.0  \n",
       "4             75.0  \n",
       "..             ...  \n",
       "995           95.0  \n",
       "996           55.0  \n",
       "997           65.0  \n",
       "998           77.0  \n",
       "999           86.0  \n",
       "\n",
       "[1000 rows x 6 columns]"
      ]
     },
     "execution_count": 1,
     "metadata": {},
     "output_type": "execute_result"
    }
   ],
   "source": [
    "import pandas as pd\n",
    "\n",
    "df = pd.read_csv('StudentsPerformance.csv')\n",
    "df"
   ]
  },
  {
   "cell_type": "markdown",
   "metadata": {},
   "source": [
    "**Problem 1.2 (Points 5)** \n",
    "\n",
    "Print first 10 rows of the data."
   ]
  },
  {
   "cell_type": "code",
   "execution_count": 2,
   "metadata": {},
   "outputs": [
    {
     "data": {
      "text/html": [
       "<div>\n",
       "<style scoped>\n",
       "    .dataframe tbody tr th:only-of-type {\n",
       "        vertical-align: middle;\n",
       "    }\n",
       "\n",
       "    .dataframe tbody tr th {\n",
       "        vertical-align: top;\n",
       "    }\n",
       "\n",
       "    .dataframe thead th {\n",
       "        text-align: right;\n",
       "    }\n",
       "</style>\n",
       "<table border=\"1\" class=\"dataframe\">\n",
       "  <thead>\n",
       "    <tr style=\"text-align: right;\">\n",
       "      <th></th>\n",
       "      <th>gender</th>\n",
       "      <th>group</th>\n",
       "      <th>test preparation course</th>\n",
       "      <th>math score</th>\n",
       "      <th>reading score</th>\n",
       "      <th>writing score</th>\n",
       "    </tr>\n",
       "  </thead>\n",
       "  <tbody>\n",
       "    <tr>\n",
       "      <th>0</th>\n",
       "      <td>female</td>\n",
       "      <td>group B</td>\n",
       "      <td>none</td>\n",
       "      <td>72.0</td>\n",
       "      <td>72</td>\n",
       "      <td>74.0</td>\n",
       "    </tr>\n",
       "    <tr>\n",
       "      <th>1</th>\n",
       "      <td>female</td>\n",
       "      <td>group C</td>\n",
       "      <td>completed</td>\n",
       "      <td>69.0</td>\n",
       "      <td>90</td>\n",
       "      <td>88.0</td>\n",
       "    </tr>\n",
       "    <tr>\n",
       "      <th>2</th>\n",
       "      <td>female</td>\n",
       "      <td>group B</td>\n",
       "      <td>none</td>\n",
       "      <td>NaN</td>\n",
       "      <td>95</td>\n",
       "      <td>NaN</td>\n",
       "    </tr>\n",
       "    <tr>\n",
       "      <th>3</th>\n",
       "      <td>male</td>\n",
       "      <td>group A</td>\n",
       "      <td>none</td>\n",
       "      <td>47.0</td>\n",
       "      <td>57</td>\n",
       "      <td>44.0</td>\n",
       "    </tr>\n",
       "    <tr>\n",
       "      <th>4</th>\n",
       "      <td>male</td>\n",
       "      <td>group C</td>\n",
       "      <td>none</td>\n",
       "      <td>76.0</td>\n",
       "      <td>78</td>\n",
       "      <td>75.0</td>\n",
       "    </tr>\n",
       "    <tr>\n",
       "      <th>5</th>\n",
       "      <td>female</td>\n",
       "      <td>group B</td>\n",
       "      <td>none</td>\n",
       "      <td>71.0</td>\n",
       "      <td>83</td>\n",
       "      <td>78.0</td>\n",
       "    </tr>\n",
       "    <tr>\n",
       "      <th>6</th>\n",
       "      <td>female</td>\n",
       "      <td>group B</td>\n",
       "      <td>completed</td>\n",
       "      <td>88.0</td>\n",
       "      <td>95</td>\n",
       "      <td>92.0</td>\n",
       "    </tr>\n",
       "    <tr>\n",
       "      <th>7</th>\n",
       "      <td>male</td>\n",
       "      <td>group B</td>\n",
       "      <td>none</td>\n",
       "      <td>40.0</td>\n",
       "      <td>43</td>\n",
       "      <td>39.0</td>\n",
       "    </tr>\n",
       "    <tr>\n",
       "      <th>8</th>\n",
       "      <td>male</td>\n",
       "      <td>group D</td>\n",
       "      <td>completed</td>\n",
       "      <td>64.0</td>\n",
       "      <td>64</td>\n",
       "      <td>67.0</td>\n",
       "    </tr>\n",
       "    <tr>\n",
       "      <th>9</th>\n",
       "      <td>female</td>\n",
       "      <td>group B</td>\n",
       "      <td>none</td>\n",
       "      <td>38.0</td>\n",
       "      <td>60</td>\n",
       "      <td>50.0</td>\n",
       "    </tr>\n",
       "  </tbody>\n",
       "</table>\n",
       "</div>"
      ],
      "text/plain": [
       "   gender    group test preparation course  math score  reading score  \\\n",
       "0  female  group B                    none        72.0             72   \n",
       "1  female  group C               completed        69.0             90   \n",
       "2  female  group B                    none         NaN             95   \n",
       "3    male  group A                    none        47.0             57   \n",
       "4    male  group C                    none        76.0             78   \n",
       "5  female  group B                    none        71.0             83   \n",
       "6  female  group B               completed        88.0             95   \n",
       "7    male  group B                    none        40.0             43   \n",
       "8    male  group D               completed        64.0             64   \n",
       "9  female  group B                    none        38.0             60   \n",
       "\n",
       "   writing score  \n",
       "0           74.0  \n",
       "1           88.0  \n",
       "2            NaN  \n",
       "3           44.0  \n",
       "4           75.0  \n",
       "5           78.0  \n",
       "6           92.0  \n",
       "7           39.0  \n",
       "8           67.0  \n",
       "9           50.0  "
      ]
     },
     "execution_count": 2,
     "metadata": {},
     "output_type": "execute_result"
    }
   ],
   "source": [
    "df.head(n=10)"
   ]
  },
  {
   "cell_type": "markdown",
   "metadata": {},
   "source": [
    "**Problem 1.3 (Points 5)**\n",
    "\n",
    "How many different groups are there in this data set?"
   ]
  },
  {
   "cell_type": "code",
   "execution_count": 3,
   "metadata": {},
   "outputs": [
    {
     "name": "stdout",
     "output_type": "stream",
     "text": [
      "There are 5 different groups in this data set.\n"
     ]
    }
   ],
   "source": [
    "print(\"There are \"+str(len(df.group.unique()))+\" different groups in this data set.\")"
   ]
  },
  {
   "cell_type": "markdown",
   "metadata": {},
   "source": [
    "**Problem 1.4 (Points 5)**\n",
    "\n",
    "Print all different groups in this data set:"
   ]
  },
  {
   "cell_type": "code",
   "execution_count": 4,
   "metadata": {},
   "outputs": [
    {
     "name": "stdout",
     "output_type": "stream",
     "text": [
      "group A\n",
      "group B\n",
      "group C\n",
      "group D\n",
      "group E\n"
     ]
    }
   ],
   "source": [
    "for i in sorted(df.group.unique()):\n",
    "    print(i)"
   ]
  },
  {
   "cell_type": "markdown",
   "metadata": {},
   "source": [
    "**Problem 1.5 (Points 10)**\n",
    "\n",
    "For each group print the number of female and the number of male members: "
   ]
  },
  {
   "cell_type": "code",
   "execution_count": 5,
   "metadata": {},
   "outputs": [
    {
     "data": {
      "text/plain": [
       "group    gender\n",
       "group A  female     36\n",
       "         male       53\n",
       "group B  female    104\n",
       "         male       86\n",
       "group C  female    180\n",
       "         male      139\n",
       "group D  female    129\n",
       "         male      133\n",
       "group E  female     69\n",
       "         male       71\n",
       "Name: gender, dtype: int64"
      ]
     },
     "execution_count": 5,
     "metadata": {},
     "output_type": "execute_result"
    }
   ],
   "source": [
    "df.groupby(['group','gender'])['gender'].count()"
   ]
  },
  {
   "cell_type": "markdown",
   "metadata": {},
   "source": [
    "**Problem 1.6 (Points 10)**\n",
    "\n",
    "For each group print the percent of female and the percent of male members:"
   ]
  },
  {
   "cell_type": "code",
   "execution_count": 6,
   "metadata": {},
   "outputs": [
    {
     "data": {
      "text/plain": [
       "group    gender\n",
       "group A  female    0.404494\n",
       "         male      0.595506\n",
       "group B  female    0.547368\n",
       "         male      0.452632\n",
       "group C  female    0.564263\n",
       "         male      0.435737\n",
       "group D  female    0.492366\n",
       "         male      0.507634\n",
       "group E  female    0.492857\n",
       "         male      0.507143\n",
       "dtype: float64"
      ]
     },
     "execution_count": 6,
     "metadata": {},
     "output_type": "execute_result"
    }
   ],
   "source": [
    "df.groupby(['group','gender'])['gender'].count()/df.groupby(['group'])['group'].count()"
   ]
  },
  {
   "cell_type": "markdown",
   "metadata": {},
   "source": [
    "**Problem 1.7 (Points 20)**\n",
    "\n",
    "For each of the groups plot the histogram over `math_score`. In your plots set number of bins to be `bins=50`\n",
    "Note: You can plot one figure per group."
   ]
  },
  {
   "cell_type": "code",
   "execution_count": 7,
   "metadata": {},
   "outputs": [
    {
     "data": {
      "image/png": "[encoded data removed]",
      "text/plain": [
       "<Figure size 432x720 with 5 Axes>"
      ]
     },
     "metadata": {
      "needs_background": "light"
     },
     "output_type": "display_data"
    }
   ],
   "source": [
    "import matplotlib.pyplot as plt\n",
    "\n",
    "p = sorted(df.group.unique())\n",
    "\n",
    "fig, axes = plt.subplots(nrows=5, ncols=1, figsize=(6,10), constrained_layout=True)\n",
    "    \n",
    "for i in range(len(p)):\n",
    "    axes[i].hist(df[df['group'] == p[i]]['math score'], bins = 50)\n",
    "    axes[i].set(title = p[i])\n",
    "\n",
    "plt.show()"
   ]
  },
  {
   "cell_type": "markdown",
   "metadata": {},
   "source": [
    "**Problem 1.8 (Points 20)**\n",
    "\n",
    "\n",
    "Make three diagrams that present `2D` scatter plots, where the axes are taking the column values from the data set. So the three diagrams will have the following axes: \n",
    "    \n",
    "diag1: x=\"math score\", y=\"reading score\"\n",
    "\n",
    "diag2: x=\"math score\", y=\"writing score\"\n",
    "\n",
    "diag3: x=\"reading score\", y=\"writing score\"\n",
    "\n"
   ]
  },
  {
   "cell_type": "code",
   "execution_count": 8,
   "metadata": {},
   "outputs": [
    {
     "data": {
      "image/png": "[encoded data removed]",
      "text/plain": [
       "<Figure size 1152x288 with 3 Axes>"
      ]
     },
     "metadata": {
      "needs_background": "light"
     },
     "output_type": "display_data"
    }
   ],
   "source": [
    "x = ['math score','math score','reading score']\n",
    "y = ['reading score','writing score','writing score']\n",
    "\n",
    "fig, axes = plt.subplots(nrows=1, ncols=3, figsize=(16,4), constrained_layout=True)\n",
    "    \n",
    "for i in range(len(x)):\n",
    "    axes[i].scatter(df[x[i]],df[y[i]])\n",
    "    axes[i].set(xlabel=x[i], ylabel=y[i])\n",
    "\n",
    "plt.show()"
   ]
  },
  {
   "cell_type": "markdown",
   "metadata": {},
   "source": [
    "**Problem 1.9 (Points 20)**\n",
    "\n",
    "Normalize each of the three columns `math score`, `reading score`, `writing score` by subtracting its mean value and dividing by its standard deviation, and form three new columns: `math_score_norm`, `reading_score_norm`, `writing_score_norm`, respectively.\n",
    "\n",
    "Perform the same task the one above (1.8) on these newly formed columns.  "
   ]
  },
  {
   "cell_type": "code",
   "execution_count": 9,
   "metadata": {},
   "outputs": [
    {
     "data": {
      "text/html": [
       "<div>\n",
       "<style scoped>\n",
       "    .dataframe tbody tr th:only-of-type {\n",
       "        vertical-align: middle;\n",
       "    }\n",
       "\n",
       "    .dataframe tbody tr th {\n",
       "        vertical-align: top;\n",
       "    }\n",
       "\n",
       "    .dataframe thead th {\n",
       "        text-align: right;\n",
       "    }\n",
       "</style>\n",
       "<table border=\"1\" class=\"dataframe\">\n",
       "  <thead>\n",
       "    <tr style=\"text-align: right;\">\n",
       "      <th></th>\n",
       "      <th>gender</th>\n",
       "      <th>group</th>\n",
       "      <th>test preparation course</th>\n",
       "      <th>math score</th>\n",
       "      <th>reading score</th>\n",
       "      <th>writing score</th>\n",
       "      <th>math_score_norm</th>\n",
       "      <th>reading_score_norm</th>\n",
       "      <th>writing_score_norm</th>\n",
       "    </tr>\n",
       "  </thead>\n",
       "  <tbody>\n",
       "    <tr>\n",
       "      <th>0</th>\n",
       "      <td>female</td>\n",
       "      <td>group B</td>\n",
       "      <td>none</td>\n",
       "      <td>72.0</td>\n",
       "      <td>72</td>\n",
       "      <td>74.0</td>\n",
       "      <td>0.373118</td>\n",
       "      <td>0.194301</td>\n",
       "      <td>0.392749</td>\n",
       "    </tr>\n",
       "    <tr>\n",
       "      <th>1</th>\n",
       "      <td>female</td>\n",
       "      <td>group C</td>\n",
       "      <td>completed</td>\n",
       "      <td>69.0</td>\n",
       "      <td>90</td>\n",
       "      <td>88.0</td>\n",
       "      <td>0.176997</td>\n",
       "      <td>1.427086</td>\n",
       "      <td>1.320625</td>\n",
       "    </tr>\n",
       "    <tr>\n",
       "      <th>2</th>\n",
       "      <td>female</td>\n",
       "      <td>group B</td>\n",
       "      <td>none</td>\n",
       "      <td>NaN</td>\n",
       "      <td>95</td>\n",
       "      <td>NaN</td>\n",
       "      <td>NaN</td>\n",
       "      <td>1.769526</td>\n",
       "      <td>NaN</td>\n",
       "    </tr>\n",
       "    <tr>\n",
       "      <th>3</th>\n",
       "      <td>male</td>\n",
       "      <td>group A</td>\n",
       "      <td>none</td>\n",
       "      <td>47.0</td>\n",
       "      <td>57</td>\n",
       "      <td>44.0</td>\n",
       "      <td>-1.261226</td>\n",
       "      <td>-0.833020</td>\n",
       "      <td>-1.595557</td>\n",
       "    </tr>\n",
       "    <tr>\n",
       "      <th>4</th>\n",
       "      <td>male</td>\n",
       "      <td>group C</td>\n",
       "      <td>none</td>\n",
       "      <td>76.0</td>\n",
       "      <td>78</td>\n",
       "      <td>75.0</td>\n",
       "      <td>0.634613</td>\n",
       "      <td>0.605229</td>\n",
       "      <td>0.459026</td>\n",
       "    </tr>\n",
       "    <tr>\n",
       "      <th>...</th>\n",
       "      <td>...</td>\n",
       "      <td>...</td>\n",
       "      <td>...</td>\n",
       "      <td>...</td>\n",
       "      <td>...</td>\n",
       "      <td>...</td>\n",
       "      <td>...</td>\n",
       "      <td>...</td>\n",
       "      <td>...</td>\n",
       "    </tr>\n",
       "    <tr>\n",
       "      <th>995</th>\n",
       "      <td>female</td>\n",
       "      <td>group E</td>\n",
       "      <td>completed</td>\n",
       "      <td>88.0</td>\n",
       "      <td>99</td>\n",
       "      <td>95.0</td>\n",
       "      <td>1.419098</td>\n",
       "      <td>2.043479</td>\n",
       "      <td>1.784563</td>\n",
       "    </tr>\n",
       "    <tr>\n",
       "      <th>996</th>\n",
       "      <td>male</td>\n",
       "      <td>group C</td>\n",
       "      <td>none</td>\n",
       "      <td>NaN</td>\n",
       "      <td>55</td>\n",
       "      <td>55.0</td>\n",
       "      <td>NaN</td>\n",
       "      <td>-0.969997</td>\n",
       "      <td>-0.866511</td>\n",
       "    </tr>\n",
       "    <tr>\n",
       "      <th>997</th>\n",
       "      <td>female</td>\n",
       "      <td>group C</td>\n",
       "      <td>completed</td>\n",
       "      <td>59.0</td>\n",
       "      <td>71</td>\n",
       "      <td>65.0</td>\n",
       "      <td>-0.476741</td>\n",
       "      <td>0.125813</td>\n",
       "      <td>-0.203743</td>\n",
       "    </tr>\n",
       "    <tr>\n",
       "      <th>998</th>\n",
       "      <td>female</td>\n",
       "      <td>group D</td>\n",
       "      <td>completed</td>\n",
       "      <td>68.0</td>\n",
       "      <td>78</td>\n",
       "      <td>77.0</td>\n",
       "      <td>0.111623</td>\n",
       "      <td>0.605229</td>\n",
       "      <td>0.591580</td>\n",
       "    </tr>\n",
       "    <tr>\n",
       "      <th>999</th>\n",
       "      <td>female</td>\n",
       "      <td>group D</td>\n",
       "      <td>none</td>\n",
       "      <td>77.0</td>\n",
       "      <td>86</td>\n",
       "      <td>86.0</td>\n",
       "      <td>0.699987</td>\n",
       "      <td>1.153134</td>\n",
       "      <td>1.188071</td>\n",
       "    </tr>\n",
       "  </tbody>\n",
       "</table>\n",
       "<p>1000 rows × 9 columns</p>\n",
       "</div>"
      ],
      "text/plain": [
       "     gender    group test preparation course  math score  reading score  \\\n",
       "0    female  group B                    none        72.0             72   \n",
       "1    female  group C               completed        69.0             90   \n",
       "2    female  group B                    none         NaN             95   \n",
       "3      male  group A                    none        47.0             57   \n",
       "4      male  group C                    none        76.0             78   \n",
       "..      ...      ...                     ...         ...            ...   \n",
       "995  female  group E               completed        88.0             99   \n",
       "996    male  group C                    none         NaN             55   \n",
       "997  female  group C               completed        59.0             71   \n",
       "998  female  group D               completed        68.0             78   \n",
       "999  female  group D                    none        77.0             86   \n",
       "\n",
       "     writing score  math_score_norm  reading_score_norm  writing_score_norm  \n",
       "0             74.0         0.373118            0.194301            0.392749  \n",
       "1             88.0         0.176997            1.427086            1.320625  \n",
       "2              NaN              NaN            1.769526                 NaN  \n",
       "3             44.0        -1.261226           -0.833020           -1.595557  \n",
       "4             75.0         0.634613            0.605229            0.459026  \n",
       "..             ...              ...                 ...                 ...  \n",
       "995           95.0         1.419098            2.043479            1.784563  \n",
       "996           55.0              NaN           -0.969997           -0.866511  \n",
       "997           65.0        -0.476741            0.125813           -0.203743  \n",
       "998           77.0         0.111623            0.605229            0.591580  \n",
       "999           86.0         0.699987            1.153134            1.188071  \n",
       "\n",
       "[1000 rows x 9 columns]"
      ]
     },
     "execution_count": 9,
     "metadata": {},
     "output_type": "execute_result"
    }
   ],
   "source": [
    "scores = ['math score','reading score','writing score']\n",
    "\n",
    "for score in scores:\n",
    "    name = str(score.replace(\" \", \"_\"))\n",
    "    df[name+'_norm'] = (df[score] - df[score].mean()) / df[score].std()\n",
    "\n",
    "df"
   ]
  },
  {
   "cell_type": "code",
   "execution_count": 10,
   "metadata": {},
   "outputs": [
    {
     "data": {
      "image/png": "[encoded data removed]",
      "text/plain": [
       "<Figure size 1152x288 with 3 Axes>"
      ]
     },
     "metadata": {
      "needs_background": "light"
     },
     "output_type": "display_data"
    }
   ],
   "source": [
    "x_norm = ['math_score_norm','math_score_norm','reading_score_norm']\n",
    "y_norm = ['reading_score_norm','writing_score_norm','writing_score_norm']\n",
    "\n",
    "fig, axes = plt.subplots(nrows=1, ncols=3, figsize=(16,4), constrained_layout=True)\n",
    "    \n",
    "for i in range(len(x)):\n",
    "    axes[i].scatter(df[x_norm[i]],df[y_norm[i]])\n",
    "    axes[i].set(xlabel=x_norm[i], ylabel=y_norm[i])\n",
    "\n",
    "plt.show()"
   ]
  }
 ],
 "metadata": {
  "kernelspec": {
   "display_name": "Python 3",
   "language": "python",
   "name": "python3"
  },
  "language_info": {
   "codemirror_mode": {
    "name": "ipython",
    "version": 3
   },
   "file_extension": ".py",
   "mimetype": "text/x-python",
   "name": "python",
   "nbconvert_exporter": "python",
   "pygments_lexer": "ipython3",
   "version": "3.8.8"
  }
 },
 "nbformat": 4,
 "nbformat_minor": 2
}
