{
 "cells": [
  {
   "cell_type": "code",
   "execution_count": 1,
   "metadata": {},
   "outputs": [
    {
     "name": "stdout",
     "output_type": "stream",
     "text": [
      "(8760, 134)\n",
      "[[0.  1.  0.3 0.7 0.  0.2 1.  0.2 0.  0.4]\n",
      " [0.  0.4 0.2 0.3 0.  0.6 1.9 1.1 0.  0. ]\n",
      " [0.  0.6 0.  0.  0.  0.2 0.7 1.1 0.  0. ]\n",
      " [0.  0.2 0.  0.  0.  0.  0.4 0.2 0.  0. ]\n",
      " [0.  0.  0.  0.  0.  0.  0.7 0.  0.  0. ]\n",
      " [0.  0.  0.6 0.2 0.  0.  0.5 0.2 0.  0.7]\n",
      " [0.  0.  0.9 0.9 0.  0.  1.3 0.  0.  0.6]\n",
      " [0.  0.3 0.6 1.2 0.  0.4 1.9 0.  0.  0.2]\n",
      " [0.  0.  0.3 0.  0.  0.6 0.6 0.4 0.  0.6]\n",
      " [0.  0.  0.5 0.  0.  0.2 0.5 0.6 0.  0.3]]\n"
     ]
    }
   ],
   "source": [
    "import matplotlib.pyplot as plt\n",
    "import numpy as np\n",
    "from os import listdir\n",
    "\n",
    "font_size = 30\n",
    "font_size_ticks = 25\n",
    "\n",
    "np.set_printoptions(precision=5)\n",
    "\n",
    "def process_name(x):\n",
    "    x = x[14:]\n",
    "    x = x[:-7]\n",
    "    x = x.translate(str.maketrans('','','_1234567890'))\n",
    "    return x[2:] + \", \" + x[:2]\n",
    "\n",
    "file_path = \"./data/weather/hourly_precipitation_2015.npy\"\n",
    "\n",
    "# data_matrix contains precipitation data from 134 stations (each station is a column)\n",
    "data_matrix = np.load(file_path)\n",
    "\n",
    "print(data_matrix.shape) \n",
    "print(data_matrix[25:35,:10])"
   ]
  },
  {
   "cell_type": "code",
   "execution_count": 2,
   "metadata": {},
   "outputs": [],
   "source": [
    "# We select three stations to study, stations contains the corresponding indices in data_matrix\n",
    "# 24: Bodega, CA\n",
    "# 99: Coos Bay, OR\n",
    "# 102: Riley, OR\n",
    "stations = [24,99,102]"
   ]
  },
  {
   "cell_type": "code",
   "execution_count": 3,
   "metadata": {},
   "outputs": [
    {
     "ename": "IndentationError",
     "evalue": "expected an indented block (<ipython-input-3-1b554138579a>, line 6)",
     "output_type": "error",
     "traceback": [
      "\u001b[0;36m  File \u001b[0;32m\"<ipython-input-3-1b554138579a>\"\u001b[0;36m, line \u001b[0;32m6\u001b[0m\n\u001b[0;31m    counts,joint_pmf = compute_joint_pmf(stations[0],stations[1],stations[2],data_matrix)\u001b[0m\n\u001b[0m         ^\u001b[0m\n\u001b[0;31mIndentationError\u001b[0m\u001b[0;31m:\u001b[0m expected an indented block\n"
     ]
    }
   ],
   "source": [
    "# Compute joint pmf of three Bernoulli random variables indicating whether it rains (1) or not (0)\n",
    "# in Bodega, Coos Bay and Riley\n",
    "def compute_joint_pmf(station_1,station_2,station_3,data_matrix):\n",
    "    # INSERT YOUR CODE HERE\n",
    "\n",
    "counts,joint_pmf = compute_joint_pmf(stations[0],stations[1],stations[2],data_matrix)\n",
    "print(counts)\n",
    "print(joint_pmf)"
   ]
  },
  {
   "cell_type": "code",
   "execution_count": 4,
   "metadata": {},
   "outputs": [
    {
     "ename": "IndentationError",
     "evalue": "expected an indented block (<ipython-input-4-6cc5180980e2>, line 5)",
     "output_type": "error",
     "traceback": [
      "\u001b[0;36m  File \u001b[0;32m\"<ipython-input-4-6cc5180980e2>\"\u001b[0;36m, line \u001b[0;32m5\u001b[0m\n\u001b[0;31m    marginal_pmf_1,marginal_pmf_2,marginal_pmf_3 = marginal_1_station(joint_pmf)\u001b[0m\n\u001b[0m                 ^\u001b[0m\n\u001b[0;31mIndentationError\u001b[0m\u001b[0;31m:\u001b[0m expected an indented block\n"
     ]
    }
   ],
   "source": [
    "# Compute marginal pmf of each of the Bernoulli random variables \n",
    "def marginal_1_station(joint_pmf):\n",
    "    # INSERT YOUR CODE HERE\n",
    "\n",
    "marginal_pmf_1,marginal_pmf_2,marginal_pmf_3 = marginal_1_station(joint_pmf)\n",
    "print(marginal_pmf_1)\n",
    "print(marginal_pmf_2)\n",
    "print(marginal_pmf_3)\n",
    "\n",
    "vals = [0,1]\n",
    "ymax = 1.0\n",
    "xmin = -0.6\n",
    "xmax = 1.6\n",
    "plt.figure(figsize=(6,9))\n",
    "plt.bar(vals,marginal_pmf_1, width = 0.5, color = \"lightgray\", edgecolor=\"black\",linewidth = 2)\n",
    "plt.xticks(np.arange(0, 1+1, 1))\n",
    "plt.xticks(fontsize=font_size_ticks) \n",
    "plt.yticks(fontsize=font_size_ticks)\n",
    "plt.ylim([0,ymax])\n",
    "plt.xlim([xmin,xmax])\n",
    "plt.ylabel(\"Probability mass function\",fontsize=font_size,labelpad = 30)\n",
    "plt.xlabel(\"Precipitation in Bodega\",fontsize=font_size,labelpad = 15)\n",
    "plt.savefig('plots/precipitation_marginal_pmf_1.pdf',bbox_inches=\"tight\")\n",
    "\n",
    "plt.figure(figsize=(6,9))\n",
    "plt.bar(vals,marginal_pmf_2, width = 0.5, color = \"lightgray\", edgecolor=\"black\",linewidth = 2)\n",
    "plt.xticks(np.arange(0, 1+1, 1))\n",
    "plt.xticks(fontsize=font_size_ticks) \n",
    "plt.yticks(fontsize=font_size_ticks)\n",
    "plt.ylim([0,ymax])\n",
    "plt.xlim([xmin,xmax])\n",
    "plt.ylabel(\"Probability mass function\",fontsize=font_size,labelpad = 30)\n",
    "plt.xlabel(\"Precipitation in Coos Bay\",fontsize=font_size,labelpad = 15)\n",
    "plt.savefig('plots/precipitation_marginal_pmf_2.pdf',bbox_inches=\"tight\")\n",
    "\n",
    "plt.figure(figsize=(6,9))\n",
    "plt.bar(vals,marginal_pmf_3, width = 0.5, color = \"lightgray\", edgecolor=\"black\",linewidth = 2)\n",
    "plt.xticks(np.arange(0, 1+1, 1))\n",
    "plt.xticks(fontsize=font_size_ticks) \n",
    "plt.yticks(fontsize=font_size_ticks)\n",
    "plt.ylim([0,ymax])\n",
    "plt.xlim([xmin,xmax])\n",
    "plt.ylabel(\"Probability mass function\",fontsize=font_size,labelpad = 30)\n",
    "plt.xlabel(\"Precipitation in Riley\",fontsize=font_size,labelpad = 15)\n",
    "plt.savefig('plots/precipitation_marginal_pmf_3.pdf',bbox_inches=\"tight\")"
   ]
  },
  {
   "cell_type": "code",
   "execution_count": 5,
   "metadata": {},
   "outputs": [
    {
     "ename": "IndentationError",
     "evalue": "expected an indented block (<ipython-input-5-7d167c12dd68>, line 5)",
     "output_type": "error",
     "traceback": [
      "\u001b[0;36m  File \u001b[0;32m\"<ipython-input-5-7d167c12dd68>\"\u001b[0;36m, line \u001b[0;32m5\u001b[0m\n\u001b[0;31m    marginal_pmf_12,marginal_pmf_13,marginal_pmf_23 = marginal_2_stations(joint_pmf)\u001b[0m\n\u001b[0m                  ^\u001b[0m\n\u001b[0;31mIndentationError\u001b[0m\u001b[0;31m:\u001b[0m expected an indented block\n"
     ]
    }
   ],
   "source": [
    "# Compute marginal joint pmf of each pair of the Bernoulli random variables \n",
    "def marginal_2_stations(joint_pmf):\n",
    "    # INSERT YOUR CODE HERE\n",
    "\n",
    "marginal_pmf_12,marginal_pmf_13,marginal_pmf_23 = marginal_2_stations(joint_pmf)\n",
    "\n",
    "print(marginal_pmf_12)\n",
    "print(marginal_pmf_13)\n",
    "print(marginal_pmf_23)"
   ]
  },
  {
   "cell_type": "code",
   "execution_count": 6,
   "metadata": {},
   "outputs": [
    {
     "ename": "IndentationError",
     "evalue": "expected an indented block (<ipython-input-6-42cccff2e93d>, line 5)",
     "output_type": "error",
     "traceback": [
      "\u001b[0;36m  File \u001b[0;32m\"<ipython-input-6-42cccff2e93d>\"\u001b[0;36m, line \u001b[0;32m5\u001b[0m\n\u001b[0;31m    cond_1_given_23,cond_2_given_13,cond_3_given_12 = conditional_1_station_given_2(joint_pmf)\u001b[0m\n\u001b[0m                  ^\u001b[0m\n\u001b[0;31mIndentationError\u001b[0m\u001b[0;31m:\u001b[0m expected an indented block\n"
     ]
    }
   ],
   "source": [
    "# Compute conditional pmf of each of the Bernoulli random variables given the other two \n",
    "def conditional_1_station_given_2(joint_pmf):\n",
    "    # INSERT YOUR CODE HERE\n",
    "\n",
    "cond_1_given_23,cond_2_given_13,cond_3_given_12 = conditional_1_station_given_2(joint_pmf)\n",
    "\n",
    "for ind_2 in range(2):\n",
    "    for ind_3 in range(2):\n",
    "        print(cond_1_given_23[ind_2][ind_3])\n",
    "        plt.figure(figsize=(6,9))\n",
    "        plt.bar(vals,cond_1_given_23[ind_2][ind_3], width = 0.5, color = \"lightgray\", edgecolor=\"black\",linewidth = 2)\n",
    "        plt.xticks(np.arange(0, 1+1, 1))\n",
    "        plt.xticks(fontsize=font_size_ticks) \n",
    "        plt.yticks(fontsize=font_size_ticks)\n",
    "        plt.ylim([0,ymax])\n",
    "        plt.xlim([xmin,xmax])\n",
    "        plt.ylabel(\"Conditional probability mass function\",fontsize=font_size,labelpad = 30)\n",
    "        plt.xlabel(\"Precipitation in Bodega\",fontsize=font_size,labelpad = 15)\n",
    "        plt.savefig('plots/precipitation_cond_pmf_1_given_2eq'+str(ind_2)+'_3eq'+str(ind_3)+'.pdf',bbox_inches=\"tight\")\n",
    "\n",
    "for ind_1 in range(2):\n",
    "    for ind_3 in range(2):\n",
    "        print(cond_2_given_13[ind_1][ind_3])\n",
    "        plt.figure(figsize=(6,9))\n",
    "        plt.bar(vals,cond_2_given_13[ind_1][ind_3], width = 0.5, color = \"lightgray\", edgecolor=\"black\",linewidth = 2)\n",
    "        plt.xticks(np.arange(0, 1+1, 1))\n",
    "        plt.xticks(fontsize=font_size_ticks) \n",
    "        plt.yticks(fontsize=font_size_ticks)\n",
    "        plt.ylim([0,ymax])\n",
    "        plt.xlim([xmin,xmax])\n",
    "        plt.ylabel(\"Conditional probability mass function\",fontsize=font_size,labelpad = 30)\n",
    "        plt.xlabel(\"Precipitation in Coos Bay\",fontsize=font_size,labelpad = 15)\n",
    "        plt.savefig('plots/precipitation_cond_pmf_2_given_1eq'+str(ind_1)+'_3eq'+str(ind_3)+'.pdf',bbox_inches=\"tight\")\n",
    "\n",
    "for ind_1 in range(2):\n",
    "    for ind_2 in range(2):\n",
    "        print(cond_3_given_12[ind_1][ind_2])\n",
    "        plt.figure(figsize=(6,9))\n",
    "        plt.bar(vals,cond_3_given_12[ind_1][ind_2], width = 0.5, color = \"lightgray\", edgecolor=\"black\",linewidth = 2)\n",
    "        plt.xticks(np.arange(0, 1+1, 1))\n",
    "        plt.xticks(fontsize=font_size_ticks) \n",
    "        plt.yticks(fontsize=font_size_ticks)\n",
    "        plt.ylim([0,ymax])\n",
    "        plt.xlim([xmin,xmax])\n",
    "        plt.ylabel(\"Conditional probability mass function\",fontsize=font_size,labelpad = 30)\n",
    "        plt.xlabel(\"Precipitation in Riley\",fontsize=font_size,labelpad = 15)\n",
    "        plt.savefig('plots/precipitation_cond_pmf_3_given_1eq'+str(ind_1)+'_2eq'+str(ind_2)+'.pdf',bbox_inches=\"tight\")\n"
   ]
  },
  {
   "cell_type": "code",
   "execution_count": 7,
   "metadata": {},
   "outputs": [
    {
     "ename": "IndentationError",
     "evalue": "expected an indented block (<ipython-input-7-1feaffe6bf6d>, line 5)",
     "output_type": "error",
     "traceback": [
      "\u001b[0;36m  File \u001b[0;32m\"<ipython-input-7-1feaffe6bf6d>\"\u001b[0;36m, line \u001b[0;32m5\u001b[0m\n\u001b[0;31m    cond_12_given_3,cond_13_given_2,cond_23_given_1 = conditional_2_stations_given_1(joint_pmf)\u001b[0m\n\u001b[0m                  ^\u001b[0m\n\u001b[0;31mIndentationError\u001b[0m\u001b[0;31m:\u001b[0m expected an indented block\n"
     ]
    }
   ],
   "source": [
    "# Compute conditional joint pmf of each pair of the Bernoulli random variables given the other one\n",
    "def conditional_2_stations_given_1(joint_pmf):\n",
    "    # INSERT YOUR CODE HERE\n",
    "\n",
    "cond_12_given_3,cond_13_given_2,cond_23_given_1 = conditional_2_stations_given_1(joint_pmf)\n",
    "\n",
    "for ind in range(2):\n",
    "    print(cond_12_given_3[ind])\n",
    "for ind in range(2):\n",
    "    print(cond_13_given_2[ind])\n",
    "for ind in range(2):\n",
    "    print(cond_23_given_1[ind])"
   ]
  },
  {
   "cell_type": "code",
   "execution_count": 8,
   "metadata": {},
   "outputs": [
    {
     "ename": "IndentationError",
     "evalue": "expected an indented block (<ipython-input-8-4569f459f189>, line 8)",
     "output_type": "error",
     "traceback": [
      "\u001b[0;36m  File \u001b[0;32m\"<ipython-input-8-4569f459f189>\"\u001b[0;36m, line \u001b[0;32m8\u001b[0m\n\u001b[0;31m    cond_1,cond_2,cond_3 = conditional_1_station_given_1_station(joint_pmf)\u001b[0m\n\u001b[0m         ^\u001b[0m\n\u001b[0;31mIndentationError\u001b[0m\u001b[0;31m:\u001b[0m expected an indented block\n"
     ]
    }
   ],
   "source": [
    "# Compute conditional pmf of each Bernoulli random variable given each of the other ones \n",
    "# (i.e. Bodega just conditioned on Coos Bay, Bodega just conditioned on Riley, etc.)\n",
    "# Use a dictionary to save the conditional pmfs, for example cond_1[\"2\"] should contain the conditional of the\n",
    "# first random variable (Bodega)\n",
    "def conditional_1_station_given_1_station(joint_pmf):\n",
    "    # INSERT YOUR CODE HERE\n",
    "\n",
    "cond_1,cond_2,cond_3 = conditional_1_station_given_1_station(joint_pmf)\n",
    "\n",
    "for given in [\"2\",\"3\"]:\n",
    "    for ind in range(2):\n",
    "        plt.figure(figsize=(6,9))\n",
    "        plt.bar(vals,cond_1[given][ind], width = 0.5, color = \"lightgray\", edgecolor=\"black\",linewidth = 2)\n",
    "        plt.xticks(np.arange(0, 1+1, 1))\n",
    "        plt.xticks(fontsize=font_size_ticks) \n",
    "        plt.yticks(fontsize=font_size_ticks)\n",
    "        plt.ylim([0,ymax])\n",
    "        plt.xlim([xmin,xmax])\n",
    "        plt.ylabel(\"Conditional probability mass function\",fontsize=font_size,labelpad = 30)\n",
    "        plt.xlabel(\"Precipitation in Bodega\",fontsize=font_size,labelpad = 15)\n",
    "        plt.savefig('plots/precipitation_cond_pmf_1_given_'+ given + 'eq'+str(ind)+'.pdf',bbox_inches=\"tight\")\n",
    "        \n",
    "for given in [\"1\",\"3\"]:\n",
    "    for ind in range(2):\n",
    "        plt.figure(figsize=(6,9))\n",
    "        plt.bar(vals,cond_2[given][ind], width = 0.5, color = \"lightgray\", edgecolor=\"black\",linewidth = 2)\n",
    "        plt.xticks(np.arange(0, 1+1, 1))\n",
    "        plt.xticks(fontsize=font_size_ticks) \n",
    "        plt.yticks(fontsize=font_size_ticks)\n",
    "        plt.ylim([0,ymax])\n",
    "        plt.xlim([xmin,xmax])\n",
    "        plt.ylabel(\"Conditional probability mass function\",fontsize=font_size,labelpad = 30)\n",
    "        plt.xlabel(\"Precipitation in Coos Bay\",fontsize=font_size,labelpad = 15)\n",
    "        plt.savefig('plots/precipitation_cond_pmf_2_given_'+ given + 'eq'+str(ind)+'.pdf',bbox_inches=\"tight\")\n",
    "\n",
    "for given in [\"1\",\"2\"]:\n",
    "    for ind in range(2):\n",
    "        plt.figure(figsize=(6,9))\n",
    "        plt.bar(vals,cond_3[given][ind], width = 0.5, color = \"lightgray\", edgecolor=\"black\",linewidth = 2)\n",
    "        plt.xticks(np.arange(0, 1+1, 1))\n",
    "        plt.xticks(fontsize=font_size_ticks) \n",
    "        plt.yticks(fontsize=font_size_ticks)\n",
    "        plt.ylim([0,ymax])\n",
    "        plt.xlim([xmin,xmax])\n",
    "        plt.ylabel(\"Conditional probability mass function\",fontsize=font_size,labelpad = 30)\n",
    "        plt.xlabel(\"Precipitation in Riley\",fontsize=font_size,labelpad = 15)\n",
    "        plt.savefig('plots/precipitation_cond_pmf_3_given_'+ given + 'eq'+str(ind)+'.pdf',bbox_inches=\"tight\")\n"
   ]
  },
  {
   "cell_type": "code",
   "execution_count": null,
   "metadata": {},
   "outputs": [],
   "source": []
  },
  {
   "cell_type": "code",
   "execution_count": null,
   "metadata": {},
   "outputs": [],
   "source": []
  }
 ],
 "metadata": {
  "kernelspec": {
   "display_name": "Python 3",
   "language": "python",
   "name": "python3"
  },
  "language_info": {
   "codemirror_mode": {
    "name": "ipython",
    "version": 3
   },
   "file_extension": ".py",
   "mimetype": "text/x-python",
   "name": "python",
   "nbconvert_exporter": "python",
   "pygments_lexer": "ipython3",
   "version": "3.7.4"
  }
 },
 "nbformat": 4,
 "nbformat_minor": 2
}
